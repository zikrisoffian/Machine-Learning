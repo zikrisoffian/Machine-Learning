{
 "cells": [
  {
   "cell_type": "markdown",
   "id": "dcc1673c",
   "metadata": {},
   "source": [
    "### Fetch data from Github and EDA"
   ]
  },
  {
   "cell_type": "code",
   "execution_count": 37,
   "id": "1eee04ce",
   "metadata": {},
   "outputs": [],
   "source": [
    "import os #OS module in Python provides functions for interacting with the operating system\n",
    "import tarfile # The tarfile module makes it possible to read and write tar archives, including those using gzip, bz2 and lzma compression.\n",
    "from six.moves import urllib #Python module for fetching URLs \n",
    "\n",
    "DOWNLOAD_ROOT = \"https://raw.githubusercontent.com/ageron/handson-ml2/master/\"\n",
    "HOUSING_PATH = os.path.join(\"datasets\", \"housing\")\n",
    "HOUSING_URL = DOWNLOAD_ROOT + \"datasets/housing/housing.tgz\"\n",
    "\n",
    "def fetch_housing_data(housing_url=HOUSING_URL, housing_path=HOUSING_PATH):\n",
    "    if not os.path.isdir(housing_path): #os.path.isdir() method in Python is used to check whether the specified path is an existing directory or not.\n",
    "        os.makedirs(housing_path) #method in Python is used to create a directory recursively.\n",
    "    tgz_path = os.path.join(housing_path, \"housing.tgz\") #os.path.join() Method in Python joins one or more path components intelligently.\n",
    "    urllib.request.urlretrieve(housing_url, tgz_path) #Open url, which can be either a string containing a valid, properly encoded URL, or a Request object.\n",
    "    housing_tgz = tarfile.open(tgz_path)\n",
    "    housing_tgz.extractall(path=housing_path)\n",
    "    housing_tgz.close()"
   ]
  },
  {
   "cell_type": "code",
   "execution_count": 38,
   "id": "a9fe46d1",
   "metadata": {},
   "outputs": [],
   "source": [
    "fetch_housing_data()"
   ]
  },
  {
   "cell_type": "markdown",
   "id": "9f5bf7a6",
   "metadata": {},
   "source": [
    "Now when you call fetch_housing_data(), it creates a datasets/housing directory in\n",
    "your workspace, downloads the housing.tgz file, and extracts the housing.csv from it in\n",
    "this directory."
   ]
  },
  {
   "cell_type": "code",
   "execution_count": 39,
   "id": "12f355f8",
   "metadata": {},
   "outputs": [],
   "source": [
    "import pandas as pd\n",
    "def load_housing_data(housing_path=HOUSING_PATH):\n",
    "    csv_path = os.path.join(housing_path, \"housing.csv\")\n",
    "    return pd.read_csv(csv_path)"
   ]
  },
  {
   "cell_type": "code",
   "execution_count": null,
   "id": "fad0a710",
   "metadata": {},
   "outputs": [],
   "source": []
  }
 ],
 "metadata": {
  "kernelspec": {
   "display_name": "Python 3 (ipykernel)",
   "language": "python",
   "name": "python3"
  },
  "language_info": {
   "codemirror_mode": {
    "name": "ipython",
    "version": 3
   },
   "file_extension": ".py",
   "mimetype": "text/x-python",
   "name": "python",
   "nbconvert_exporter": "python",
   "pygments_lexer": "ipython3",
   "version": "3.10.9"
  }
 },
 "nbformat": 4,
 "nbformat_minor": 5
}
