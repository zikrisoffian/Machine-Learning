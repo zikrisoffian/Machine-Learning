{
 "cells": [
  {
   "cell_type": "markdown",
   "id": "c069590d",
   "metadata": {},
   "source": [
    "## accuracy score\n",
    "\n",
    "Accuracy score is used to evaluate machine learning classification model. Accuracy score measure the proportion of correctly classified examples among all other examples in the dataset. \n",
    "\n",
    "The score range from 0 to 1, which 1 indicate perfect accuracy and 0  indicate complete failure.\n",
    "Sklearn provide simple function accuracy_score to compute the Accuracy score. \n",
    "\n",
    "The function take two arrays as input: y_true and y_pred. The function returns the accuracy score, which is the proportion of correctly classified examples. "
   ]
  },
  {
   "cell_type": "code",
   "execution_count": 3,
   "id": "4ee88561",
   "metadata": {},
   "outputs": [
    {
     "data": {
      "text/plain": [
       "1.0"
      ]
     },
     "execution_count": 3,
     "metadata": {},
     "output_type": "execute_result"
    }
   ],
   "source": [
    "from sklearn.metrics import accuracy_score\n",
    "\n",
    "y_true = [1,2,3,4,5,6,7,8,9]\n",
    "y_pred = [1,2,3,4,5,6,7,8,9]\n",
    "\n",
    "accuracy = accuracy_score(y_true,y_pred)\n",
    "accuracy # The output is 1.0  indicating perfect accuarcy"
   ]
  },
  {
   "cell_type": "markdown",
   "id": "11e869f0",
   "metadata": {},
   "source": [
    "In the above code, we iterate over the length of y_true and checking if each elemet in y_true matches the corresponding element in y_pred. Then we can devide these number to the total number of exmaples.\n"
   ]
  },
  {
   "cell_type": "code",
   "execution_count": 4,
   "id": "ed80ca08",
   "metadata": {},
   "outputs": [
    {
     "data": {
      "text/plain": [
       "0.7777777777777778"
      ]
     },
     "execution_count": 4,
     "metadata": {},
     "output_type": "execute_result"
    }
   ],
   "source": [
    "from sklearn.metrics import accuracy_score\n",
    "\n",
    "y_true = [1,2,3,4,5,6,7,8,9]\n",
    "y_pred = [1,2,4,4,4,6,7,8,9]\n",
    "\n",
    "accuracy = accuracy_score(y_true,y_pred)\n",
    "accuracy "
   ]
  }
 ],
 "metadata": {
  "kernelspec": {
   "display_name": "Python 3 (ipykernel)",
   "language": "python",
   "name": "python3"
  },
  "language_info": {
   "codemirror_mode": {
    "name": "ipython",
    "version": 3
   },
   "file_extension": ".py",
   "mimetype": "text/x-python",
   "name": "python",
   "nbconvert_exporter": "python",
   "pygments_lexer": "ipython3",
   "version": "3.10.9"
  }
 },
 "nbformat": 4,
 "nbformat_minor": 5
}
