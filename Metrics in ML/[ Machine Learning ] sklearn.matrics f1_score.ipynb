{
 "cells": [
  {
   "cell_type": "markdown",
   "id": "6b86964c",
   "metadata": {},
   "source": [
    "### F1 score\n",
    "\n",
    "F1 score is popilart metric used to evaluate the performance of machine learning models. F1 score is  harmonic mean of precision and recall, which makes it a good measure for model accuracy. \n",
    "\n",
    "In binary classification, we have two classes, positive and negative. Precision is the ratio of true positive to the sum of true positives and fase positive. Recall is the ratio of true positive to the sum of true positive and false negative.\n",
    "\n",
    "F1 score is the harmonic mean of precision and recall:\n",
    "\n",
    "F1 = 2 * (precision * recall) / (precision + recall) \n",
    "\n",
    "F1 score ranges from 0 to 1, with 1 being the best possible score. High F1 score indicate that the model has both high precision and high recall, which means that it's able to correctly identify positive cases while avoiding false positive and false negatives. "
   ]
  },
  {
   "cell_type": "code",
   "execution_count": 8,
   "id": "c5cc13b3",
   "metadata": {},
   "outputs": [
    {
     "name": "stdout",
     "output_type": "stream",
     "text": [
      "f1 score:  0.75\n"
     ]
    }
   ],
   "source": [
    "# compute F1 score using sckikit-learn\n",
    "from sklearn.metrics import f1_score\n",
    "\n",
    "y_true = [0,1,0,0,1,1,0,1]\n",
    "y_pred = [0,0,0,1,1,1,0,1]\n",
    "f1 = f1_score(y_true,y_pred)\n",
    "print(\"f1 score: \" , f1)\n",
    "\n",
    "# in this example, we have two arrays : y_true and y_pred\n",
    "# we get F1 score of 0.75"
   ]
  },
  {
   "cell_type": "code",
   "execution_count": 18,
   "id": "0a8ccb23",
   "metadata": {},
   "outputs": [],
   "source": [
    "# below is F1 metric by purepython"
   ]
  },
  {
   "cell_type": "code",
   "execution_count": 15,
   "id": "2e60980f",
   "metadata": {},
   "outputs": [
    {
     "data": {
      "text/plain": [
       "0.75"
      ]
     },
     "execution_count": 15,
     "metadata": {},
     "output_type": "execute_result"
    }
   ],
   "source": [
    "true_positive = 3\n",
    "false_positive = 1\n",
    "precision = true_positive / (true_positive + false_positive)\n",
    "precision"
   ]
  },
  {
   "cell_type": "code",
   "execution_count": 16,
   "id": "76965f85",
   "metadata": {},
   "outputs": [
    {
     "data": {
      "text/plain": [
       "0.75"
      ]
     },
     "execution_count": 16,
     "metadata": {},
     "output_type": "execute_result"
    }
   ],
   "source": [
    "true_positive = 3\n",
    "false_negative = 1\n",
    "recall = true_positive / (true_positive + false_negative)\n",
    "recall"
   ]
  },
  {
   "cell_type": "code",
   "execution_count": 17,
   "id": "8849714b",
   "metadata": {},
   "outputs": [
    {
     "data": {
      "text/plain": [
       "0.75"
      ]
     },
     "execution_count": 17,
     "metadata": {},
     "output_type": "execute_result"
    }
   ],
   "source": [
    "F1 = 2 * (precision * recall) / (precision + recall)\n",
    "F1"
   ]
  }
 ],
 "metadata": {
  "kernelspec": {
   "display_name": "Python 3 (ipykernel)",
   "language": "python",
   "name": "python3"
  },
  "language_info": {
   "codemirror_mode": {
    "name": "ipython",
    "version": 3
   },
   "file_extension": ".py",
   "mimetype": "text/x-python",
   "name": "python",
   "nbconvert_exporter": "python",
   "pygments_lexer": "ipython3",
   "version": "3.10.9"
  }
 },
 "nbformat": 4,
 "nbformat_minor": 5
}
