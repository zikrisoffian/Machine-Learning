{
 "cells": [
  {
   "cell_type": "markdown",
   "id": "c4f452be",
   "metadata": {},
   "source": [
    "# sklearn model selection\n",
    "\n",
    "sklearn.model_selection split arrays and matrices into random train and test subsets.\\\n",
    "We need to divide our data into feature X and labels y.The dataframe get divided into X_train, X_test, y_train, y_test sets and these are used for training and testing\n",
    "\n",
    "We can explicitly choose the size of the train and test dataset, but it is suggested to keep the train sets larger than test sets.\n",
    "\n",
    "Training set: Dataset that is utilized to fot the mode. This dataset is learned by the model.\\\n",
    "Test set: The dataset thet is utilized to give an accurate evaluation of the final model fit.\\\n",
    "Validation set: Sample of data from model's training set that is used to estimate model performance while tuning model's hyperparameter\n",
    "\n",
    "By default, 25 % of data is test set and 75% is training set\n"
   ]
  },
  {
   "cell_type": "code",
   "execution_count": 2,
   "id": "a6492506",
   "metadata": {},
   "outputs": [],
   "source": [
    "import numpy as np\n",
    "from sklearn.model_selection import train_test_split "
   ]
  },
  {
   "cell_type": "code",
   "execution_count": 7,
   "id": "ad69ced4",
   "metadata": {},
   "outputs": [],
   "source": [
    "data_x = np.arange(1,101)\n",
    "data_y = np.arange(1,101)"
   ]
  },
  {
   "cell_type": "code",
   "execution_count": 28,
   "id": "59be23e1",
   "metadata": {},
   "outputs": [],
   "source": [
    "# random_state simply sets a seed to the random generator, so out train test split are always deterministic\n",
    "# if we dont set a seed, the value will be different each time \n",
    "# if we used fized value like 0 , 1 ,42, no matter how many time we execute out code, the result will be the same\n",
    "\n",
    "X_train,X_test, y_train,y_test = train_test_split(data_x,data_y, random_state = 42, test_size = 0.25, shuffle = True)"
   ]
  },
  {
   "cell_type": "code",
   "execution_count": 29,
   "id": "692dfccf",
   "metadata": {},
   "outputs": [
    {
     "data": {
      "text/plain": [
       "array([ 16,  41,  97,  10,  73,  12,  48,  86,  29,  94,   6,  67,  66,\n",
       "        36,  17,  50,  35,   8,  96,  28,  20,  82,  26,  63,  14,  25,\n",
       "         4,  18,  39,   9,  79,   7,  65,  37,  90,  57, 100,  55,  44,\n",
       "        51,  68,  47,  69,  62,  98,  80,  42,  59,  49,  99,  58,  76,\n",
       "        33,  95,  60,  64,  85,  38,  30,   2,  53,  22,   3,  24,  88,\n",
       "        92,  75,  87,  83,  21,  61,  72,  15,  93,  52])"
      ]
     },
     "execution_count": 29,
     "metadata": {},
     "output_type": "execute_result"
    }
   ],
   "source": [
    "X_train"
   ]
  },
  {
   "cell_type": "code",
   "execution_count": 30,
   "id": "c350969f",
   "metadata": {},
   "outputs": [
    {
     "data": {
      "text/plain": [
       "array([84, 54, 71, 46, 45, 40, 23, 81, 11,  1, 19, 31, 74, 34, 91,  5, 77,\n",
       "       78, 13, 32, 56, 89, 27, 43, 70])"
      ]
     },
     "execution_count": 30,
     "metadata": {},
     "output_type": "execute_result"
    }
   ],
   "source": [
    "X_test"
   ]
  }
 ],
 "metadata": {
  "kernelspec": {
   "display_name": "Python 3 (ipykernel)",
   "language": "python",
   "name": "python3"
  },
  "language_info": {
   "codemirror_mode": {
    "name": "ipython",
    "version": 3
   },
   "file_extension": ".py",
   "mimetype": "text/x-python",
   "name": "python",
   "nbconvert_exporter": "python",
   "pygments_lexer": "ipython3",
   "version": "3.10.9"
  }
 },
 "nbformat": 4,
 "nbformat_minor": 5
}
